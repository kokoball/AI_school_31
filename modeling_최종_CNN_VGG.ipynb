{
 "cells": [
  {
   "cell_type": "code",
   "execution_count": 1,
   "metadata": {},
   "outputs": [],
   "source": [
    "import tensorflow as tf\n",
    "import matplotlib.pyplot as plt\n",
    "import datetime\n",
    "import pandas as pd\n",
    "import numpy as np\n",
    "import os\n",
    "from PIL import Image\n",
    "# 이미지 처리 \n",
    "from keras.preprocessing import image"
   ]
  },
  {
   "cell_type": "code",
   "execution_count": 2,
   "metadata": {},
   "outputs": [],
   "source": [
    "import cv2\n",
    "from random import shuffle\n",
    "from tensorflow.keras.preprocessing.image import ImageDataGenerator\n",
    "import glob as gb\n",
    "from tensorflow.keras.utils import to_categorical"
   ]
  },
  {
   "cell_type": "markdown",
   "metadata": {},
   "source": [
    "## 파일 경로"
   ]
  },
  {
   "cell_type": "code",
   "execution_count": 3,
   "metadata": {},
   "outputs": [],
   "source": [
    "base_dir = './Data' # 기본경로\n",
    "train_dir = os.path.join(base_dir, 'train') # 학습 데이터 경로\n",
    "test_dir = os.path.join(base_dir, 'test') # 테스트 데이더 경로\n",
    "p_train_dir = os.path.join(base_dir, 'p_train') # 추가학습 데이터 경로  # 으로 다 합침\n",
    "p_test_dir = os.path.join(base_dir, 'p_test') # 추가학습 데이터 경로  # 으로 다 합침\n",
    "\n",
    "\n",
    "# 학습 사진\n",
    "train_covid_dir = os.path.join(train_dir, 'COVID19')\n",
    "train_normal_dir = os.path.join(train_dir, 'NORMAL')\n",
    "train_pneum_dir = os.path.join(train_dir, 'PNEUMONIA')\n",
    "\n",
    "# 추가 학습 사진\n",
    "p_train_covid_dir = os.path.join(p_train_dir, 'COVID19')\n",
    "p_train_normal_dir = os.path.join(p_train_dir, 'NORMAL')\n",
    "p_train_pneum_dir = os.path.join(p_train_dir, 'PNEUMONIA')\n",
    "\n",
    "# 테스트  사진\n",
    "test_covid_dir = os.path.join(test_dir, 'COVID19')\n",
    "test_normal_dir = os.path.join(test_dir, 'NORMAL')\n",
    "test_pneum_dir = os.path.join(test_dir, 'PNEUMONIA')\n",
    "\n",
    "# 추가 테스트 사진\n",
    "\n",
    "p_test_covid_dir = os.path.join(p_test_dir, 'COVID19')\n",
    "p_test_normal_dir = os.path.join(p_test_dir, 'NORMAL')\n",
    "p_test_pneum_dir = os.path.join(p_test_dir, 'PNEUMONIA')"
   ]
  },
  {
   "cell_type": "code",
   "execution_count": 4,
   "metadata": {},
   "outputs": [
    {
     "name": "stdout",
     "output_type": "stream",
     "text": [
      "['COVID19(0).jpg', 'COVID19(1).jpg', 'COVID19(10).jpg', 'COVID19(101).jpg', 'COVID19(102).jpg', 'COVID19(103).jpg', 'COVID19(104).jpg', 'COVID19(105).jpg', 'COVID19(107).jpg', 'COVID19(108).jpg']\n",
      "['NORMAL(0).jpg', 'NORMAL(1).jpg', 'NORMAL(100).jpg', 'NORMAL(1000).jpg', 'NORMAL(1002).jpg', 'NORMAL(1005).jpg', 'NORMAL(1006).jpg', 'NORMAL(1007).jpg', 'NORMAL(1008).jpg', 'NORMAL(1009).jpg']\n",
      "['NORMAL(0).jpg', 'NORMAL(1).jpg', 'NORMAL(100).jpg', 'NORMAL(1000).jpg', 'NORMAL(1002).jpg', 'NORMAL(1005).jpg', 'NORMAL(1006).jpg', 'NORMAL(1007).jpg', 'NORMAL(1008).jpg', 'NORMAL(1009).jpg']\n"
     ]
    }
   ],
   "source": [
    "# 제대로 경로 지정 됐는지 확인\n",
    "train_covid_fname = os.listdir(train_covid_dir)\n",
    "train_normal_fname = os.listdir(train_normal_dir)\n",
    "train_pneum_fname = os.listdir(train_pneum_dir)\n",
    "\n",
    "test_covid_fname = os.listdir(test_covid_dir)\n",
    "test_normal_fname = os.listdir(test_normal_dir)\n",
    "test_pneum_fname = os.listdir(test_pneum_dir)\n",
    "\n",
    "p_train_covid_fname = os.listdir(p_train_covid_dir)\n",
    "p_train_normal_fname = os.listdir(p_train_normal_dir)\n",
    "p_train_pneum_fname = os.listdir(p_train_pneum_dir)\n",
    "\n",
    "p_test_covid_fname = os.listdir(p_test_covid_dir)\n",
    "p_test_normal_fname = os.listdir(p_test_normal_dir)\n",
    "p_test_pneum_fname = os.listdir(p_test_pneum_dir)\n",
    "\n",
    "print(train_covid_fname[:10]) # 열개만 확인\n",
    "print(train_normal_fname[:10])\n",
    "print(p_train_normal_fname[:10])"
   ]
  },
  {
   "cell_type": "code",
   "execution_count": 7,
   "metadata": {},
   "outputs": [
    {
     "name": "stdout",
     "output_type": "stream",
     "text": [
      "전체 학습용 코로나 이미지 개수는:  460\n",
      "전체 학습용 정상 이미지 개수는:  1266\n",
      "전체 학습용 폐렴 이미지 개수는:  3418\n",
      "-----------------------------------------------------\n",
      "전체 테스트용 코로나 이미지 개수는:  116\n",
      "전체 테스트용 정상 이미지 개수는:  317\n",
      "전체 테스트용 폐렴 이미지 개수는:  855\n",
      "-----------------------------------------------------\n",
      "전체 추가 학습용 코로나 이미지 개수는:  6857\n",
      "전체 추가 학습용 정상 이미지 개수는:  7644\n",
      "전체 추가 학습용 폐렴 이미지 개수는:  9788\n",
      "-----------------------------------------------------\n",
      "전체 추가 테스트용 코로나 이미지 개수는:  2423\n",
      "전체 추가 테스트용 정상 이미지 개수는:  2565\n",
      "전체 추가 테스트용 폐렴 이미지 개수는:  3099\n"
     ]
    }
   ],
   "source": [
    "# train 및 test 디렉토리에서 코로나, 정상, 폐렴의 이미지 총 수를 알아보기\n",
    "print(\"전체 학습용 코로나 이미지 개수는: \", len(os.listdir(train_covid_dir)))\n",
    "print(\"전체 학습용 정상 이미지 개수는: \", len(os.listdir(train_normal_dir)))\n",
    "print(\"전체 학습용 폐렴 이미지 개수는: \", len(os.listdir(train_pneum_dir)))\n",
    "\n",
    "print(\"-----------------------------------------------------\")\n",
    "\n",
    "print(\"전체 테스트용 코로나 이미지 개수는: \", len(os.listdir(test_covid_dir)))\n",
    "print(\"전체 테스트용 정상 이미지 개수는: \", len(os.listdir(test_normal_dir)))\n",
    "print(\"전체 테스트용 폐렴 이미지 개수는: \", len(os.listdir(test_pneum_dir)))\n",
    "\n",
    "print(\"-----------------------------------------------------\")\n",
    "print(\"전체 추가 학습용 코로나 이미지 개수는: \", len(os.listdir(p_train_covid_dir)))\n",
    "print(\"전체 추가 학습용 정상 이미지 개수는: \", len(os.listdir(p_train_normal_dir)))\n",
    "print(\"전체 추가 학습용 폐렴 이미지 개수는: \", len(os.listdir(p_train_pneum_dir)))\n",
    "\n",
    "print(\"-----------------------------------------------------\")\n",
    "\n",
    "print(\"전체 추가 테스트용 코로나 이미지 개수는: \", len(os.listdir(p_test_covid_dir)))\n",
    "print(\"전체 추가 테스트용 정상 이미지 개수는: \", len(os.listdir(p_test_normal_dir)))\n",
    "print(\"전체 추가 테스트용 폐렴 이미지 개수는: \", len(os.listdir(p_test_pneum_dir)))\n",
    "\n"
   ]
  },
  {
   "cell_type": "code",
   "execution_count": 8,
   "metadata": {},
   "outputs": [
    {
     "name": "stdout",
     "output_type": "stream",
     "text": [
      "2\n",
      "PNEUMONIA\n"
     ]
    }
   ],
   "source": [
    "Labels = {'NORMAL':0,'PNEUMONIA':1,'COVID19':2}\n",
    "\n",
    "def getCode(label):\n",
    "    return Labels[label]\n",
    "\n",
    "def getLabel(n):\n",
    "    for x,c in Labels.items():\n",
    "        if n==c:\n",
    "            return x\n",
    "        \n",
    "print(getCode('COVID19'))\n",
    "print(getLabel(1))"
   ]
  },
  {
   "cell_type": "code",
   "execution_count": 9,
   "metadata": {},
   "outputs": [],
   "source": [
    "import glob as gb\n",
    "import cv2\n",
    "import random\n",
    "\n",
    "sizeImage = 224\n",
    "\n",
    "def train_getData(Dir,sizeImage):\n",
    "    X=[]\n",
    "    y=[]\n",
    "    for folder in os.listdir(Dir) :\n",
    "        files = gb.glob(pathname = str(Dir + '/' + folder + '//*.jpg'))\n",
    "        random.shuffle(files)\n",
    "        for num in range(2500) :\n",
    "            picture = cv2.imread(files[num])\n",
    "            img = cv2.resize(picture,(sizeImage,sizeImage))\n",
    "            #img = cv2.GaussianBlur(imageArray,(5,5),0)\n",
    "            X.append(list(img))\n",
    "            y.append(getCode(folder))\n",
    "    X = np.array(X)\n",
    "    y = np.array(y)\n",
    "    \n",
    "    return X,y\n",
    "\n",
    "def test_getData(Dir,sizeImage):\n",
    "    X=[]\n",
    "    y=[]\n",
    "    for folder in os.listdir(Dir) :\n",
    "        files = gb.glob(pathname = str(Dir + '/' + folder + '//*.jpg'))\n",
    "        random.shuffle(files)\n",
    "        for num in range(625) :\n",
    "            picture = cv2.imread(files[num])\n",
    "            img = cv2.resize(picture,(sizeImage,sizeImage))\n",
    "            #img = cv2.GaussianBlur(imageArray,(5,5),0)\n",
    "            X.append(list(img))\n",
    "            y.append(getCode(folder))\n",
    "    X = np.array(X)\n",
    "    y = np.array(y)\n",
    "    \n",
    "    return X,y"
   ]
  },
  {
   "cell_type": "code",
   "execution_count": 10,
   "metadata": {},
   "outputs": [],
   "source": [
    "X_train, y_train = train_getData(p_train_dir,sizeImage)\n",
    "X_test,y_test = test_getData(p_test_dir,sizeImage)"
   ]
  },
  {
   "cell_type": "markdown",
   "metadata": {},
   "source": [
    "## 데이터 셔플"
   ]
  },
  {
   "cell_type": "code",
   "execution_count": 11,
   "metadata": {},
   "outputs": [],
   "source": [
    "tmp_train = [[x,y] for x, y in zip(X_train, y_train)]\n",
    "tmp_test = [[x,y] for x, y in zip(X_test, y_test)]\n",
    "\n",
    "import random\n",
    "random.shuffle(tmp_train)\n",
    "random.shuffle(tmp_test)\n",
    "\n",
    "X_train = [n[0] for n in tmp_train]\n",
    "y_train = [n[1] for n in tmp_train]\n",
    "\n",
    "X_test = [n[0] for n in tmp_test]\n",
    "y_test = [n[1] for n in tmp_test]\n",
    "\n",
    "# 리스트에서 배열로\n",
    "X_train = np.array(X_train)\n",
    "y_train = np.array(y_train)\n",
    "X_test = np.array(X_test)\n",
    "y_test = np.array(y_test)"
   ]
  },
  {
   "cell_type": "code",
   "execution_count": 12,
   "metadata": {},
   "outputs": [
    {
     "name": "stdout",
     "output_type": "stream",
     "text": [
      "X_train Shape :  (7500, 224, 224, 3)\n",
      "X_test Shape :  (1875, 224, 224, 3)\n"
     ]
    }
   ],
   "source": [
    "print(\"X_train Shape : \",X_train.shape)\n",
    "print(\"X_test Shape : \",X_test.shape)"
   ]
  },
  {
   "cell_type": "code",
   "execution_count": 11,
   "metadata": {},
   "outputs": [],
   "source": [
    "#X_train = X_train / 255.0\n",
    "#X_test = X_test / 255.0\n"
   ]
  },
  {
   "cell_type": "code",
   "execution_count": 20,
   "metadata": {},
   "outputs": [
    {
     "name": "stdout",
     "output_type": "stream",
     "text": [
      "(1440000, 28, 28, 1) (360000, 28, 28, 1)\n",
      "(1440000, 28, 28, 1) (360000, 28, 28, 1)\n"
     ]
    }
   ],
   "source": [
    "print(X_train.shape, X_test.shape)\n",
    "X_train = X_train.reshape(-1, 28, 28, 1)\n",
    "X_test = X_test.reshape(-1, 28, 28, 1)\n",
    "print(X_train.shape,X_test.shape)"
   ]
  },
  {
   "cell_type": "markdown",
   "metadata": {},
   "source": [
    "# 합성곱 신경망을 활용한 이미지 판별 "
   ]
  },
  {
   "cell_type": "code",
   "execution_count": 13,
   "metadata": {},
   "outputs": [],
   "source": [
    "model= tf.keras.Sequential([\n",
    "    tf.keras.layers.Conv2D(input_shape=(224,224,3),kernel_size=(3,3),filters = 50,strides = (1,1),padding='same',activation='relu'),\n",
    "    tf.keras.layers.Conv2D(kernel_size=(3,3),filters = 50,strides = (1,1), padding='same', activation='relu'),\n",
    "    tf.keras.layers.MaxPool2D(strides = (2,2)),\n",
    "    tf.keras.layers.Conv2D(kernel_size=(3,3),filters = 50,strides = (1,1), padding='same', activation='relu'),\n",
    "    tf.keras.layers.Conv2D(kernel_size=(3,3),filters = 50,strides = (1,1), padding='same', activation='relu'),\n",
    "\n",
    "    tf.keras.layers.MaxPool2D(strides = (2,2)),\n",
    "    tf.keras.layers.Conv2D(kernel_size=(3,3),filters = 50,strides = (1,1), padding='same', activation='relu'),\n",
    "    tf.keras.layers.Conv2D(kernel_size=(3,3),filters = 50,strides = (1,1), padding='same', activation='relu'),\n",
    "\n",
    "    tf.keras.layers.MaxPool2D(strides = (2,2)),\n",
    "\n",
    "    tf.keras.layers.Flatten(),\n",
    "    tf.keras.layers.Dense(units=50, activation = 'relu'),\n",
    "\n",
    "    tf.keras.layers.Dense(units=3, activation = 'softmax')\n",
    "])"
   ]
  },
  {
   "cell_type": "code",
   "execution_count": 14,
   "metadata": {},
   "outputs": [
    {
     "name": "stdout",
     "output_type": "stream",
     "text": [
      "Model: \"sequential\"\n",
      "_________________________________________________________________\n",
      "Layer (type)                 Output Shape              Param #   \n",
      "=================================================================\n",
      "conv2d (Conv2D)              (None, 224, 224, 50)      1400      \n",
      "_________________________________________________________________\n",
      "conv2d_1 (Conv2D)            (None, 224, 224, 50)      22550     \n",
      "_________________________________________________________________\n",
      "max_pooling2d (MaxPooling2D) (None, 112, 112, 50)      0         \n",
      "_________________________________________________________________\n",
      "conv2d_2 (Conv2D)            (None, 112, 112, 50)      22550     \n",
      "_________________________________________________________________\n",
      "conv2d_3 (Conv2D)            (None, 112, 112, 50)      22550     \n",
      "_________________________________________________________________\n",
      "max_pooling2d_1 (MaxPooling2 (None, 56, 56, 50)        0         \n",
      "_________________________________________________________________\n",
      "conv2d_4 (Conv2D)            (None, 56, 56, 50)        22550     \n",
      "_________________________________________________________________\n",
      "conv2d_5 (Conv2D)            (None, 56, 56, 50)        22550     \n",
      "_________________________________________________________________\n",
      "max_pooling2d_2 (MaxPooling2 (None, 28, 28, 50)        0         \n",
      "_________________________________________________________________\n",
      "flatten (Flatten)            (None, 39200)             0         \n",
      "_________________________________________________________________\n",
      "dense (Dense)                (None, 50)                1960050   \n",
      "_________________________________________________________________\n",
      "dense_1 (Dense)              (None, 3)                 153       \n",
      "=================================================================\n",
      "Total params: 2,074,353\n",
      "Trainable params: 2,074,353\n",
      "Non-trainable params: 0\n",
      "_________________________________________________________________\n"
     ]
    }
   ],
   "source": [
    "model.compile(optimizer = tf.keras.optimizers.Adam(),\n",
    "              loss = 'sparse_categorical_crossentropy',\n",
    "              metrics = ['accuracy'])\n",
    "model.summary()"
   ]
  },
  {
   "cell_type": "code",
   "execution_count": 15,
   "metadata": {},
   "outputs": [
    {
     "name": "stdout",
     "output_type": "stream",
     "text": [
      "Epoch 1/30\n",
      "  2/176 [..............................] - ETA: 21s - loss: 43.9275 - accuracy: 0.3438WARNING:tensorflow:Callbacks method `on_train_batch_end` is slow compared to the batch time (batch time: 0.0568s vs `on_train_batch_end` time: 0.1951s). Check your callbacks.\n",
      "176/176 [==============================] - 49s 280ms/step - loss: 1.3422 - accuracy: 0.7660 - val_loss: 0.3364 - val_accuracy: 0.8912\n",
      "Epoch 2/30\n",
      "176/176 [==============================] - 49s 279ms/step - loss: 0.3608 - accuracy: 0.8731 - val_loss: 0.3261 - val_accuracy: 0.8907\n",
      "Epoch 3/30\n",
      "176/176 [==============================] - 50s 284ms/step - loss: 0.2775 - accuracy: 0.8978 - val_loss: 0.2918 - val_accuracy: 0.9088\n",
      "Epoch 4/30\n",
      "176/176 [==============================] - 50s 286ms/step - loss: 0.2428 - accuracy: 0.9131 - val_loss: 0.2540 - val_accuracy: 0.9173\n",
      "Epoch 5/30\n",
      "176/176 [==============================] - 51s 288ms/step - loss: 0.2202 - accuracy: 0.9170 - val_loss: 0.2844 - val_accuracy: 0.9061\n",
      "Epoch 6/30\n",
      "176/176 [==============================] - 51s 291ms/step - loss: 0.1360 - accuracy: 0.9529 - val_loss: 0.2888 - val_accuracy: 0.9136\n",
      "Epoch 7/30\n",
      "176/176 [==============================] - 51s 291ms/step - loss: 0.1085 - accuracy: 0.9614 - val_loss: 0.2232 - val_accuracy: 0.9365\n",
      "Epoch 8/30\n",
      "176/176 [==============================] - 51s 292ms/step - loss: 0.0735 - accuracy: 0.9737 - val_loss: 0.3455 - val_accuracy: 0.9243\n",
      "Epoch 9/30\n",
      "176/176 [==============================] - 51s 292ms/step - loss: 0.0487 - accuracy: 0.9845 - val_loss: 0.2694 - val_accuracy: 0.9355\n",
      "Epoch 10/30\n",
      "176/176 [==============================] - 51s 292ms/step - loss: 0.0442 - accuracy: 0.9836 - val_loss: 0.2506 - val_accuracy: 0.9355\n",
      "Epoch 11/30\n",
      "176/176 [==============================] - 51s 292ms/step - loss: 0.0350 - accuracy: 0.9897 - val_loss: 0.3563 - val_accuracy: 0.9259\n",
      "Epoch 12/30\n",
      "176/176 [==============================] - 51s 292ms/step - loss: 0.0398 - accuracy: 0.9877 - val_loss: 0.3009 - val_accuracy: 0.9243\n"
     ]
    }
   ],
   "source": [
    "history = model.fit(X_train,y_train,\n",
    "                    epochs=30,\n",
    "                    validation_split=0.25,\n",
    "                    callbacks = [tf.keras.callbacks.EarlyStopping(patience = 5, monitor = 'val_loss')])"
   ]
  },
  {
   "cell_type": "code",
   "execution_count": null,
   "metadata": {},
   "outputs": [],
   "source": [
    "#model.save('M1_NoGauss_E_30_ImageNet.h5')"
   ]
  },
  {
   "cell_type": "markdown",
   "metadata": {},
   "source": [
    "## 정확도 및 손실값에 대한 결과 시각화"
   ]
  },
  {
   "cell_type": "code",
   "execution_count": 16,
   "metadata": {},
   "outputs": [
    {
     "data": {
      "image/png": "[encoded data removed]",
      "text/plain": [
       "<Figure size 864x288 with 1 Axes>"
      ]
     },
     "metadata": {
      "needs_background": "light"
     },
     "output_type": "display_data"
    },
    {
     "data": {
      "image/png": "[encoded data removed]",
      "text/plain": [
       "<Figure size 432x288 with 1 Axes>"
      ]
     },
     "metadata": {
      "needs_background": "light"
     },
     "output_type": "display_data"
    }
   ],
   "source": [
    "import matplotlib.pyplot as plt\n",
    "plt.figure(figsize = (12,4))\n",
    "\n",
    "plt.subplot(1,2,1)\n",
    "plt.plot(history.history['loss'],'b-',label = 'loss')\n",
    "plt.plot(history.history['val_loss'],'r--',label = 'val_loss')\n",
    "plt.xlabel('Epoch')\n",
    "plt.legend()\n",
    "plt.show()\n",
    "\n",
    "plt.subplot(1,2,2)\n",
    "plt.plot(history.history['accuracy'],'g-',label = 'accuracy')\n",
    "plt.plot(history.history['val_accuracy'],'k--',label = 'val_accuracy')\n",
    "plt.xlabel('Epoch')\n",
    "plt.legend()\n",
    "plt.show()"
   ]
  },
  {
   "cell_type": "code",
   "execution_count": 17,
   "metadata": {},
   "outputs": [
    {
     "name": "stdout",
     "output_type": "stream",
     "text": [
      "59/59 [==============================] - 4s 60ms/step - loss: 0.2996 - accuracy: 0.9301\n"
     ]
    },
    {
     "data": {
      "text/plain": [
       "[0.2995995879173279, 0.9301333427429199]"
      ]
     },
     "execution_count": 17,
     "metadata": {},
     "output_type": "execute_result"
    }
   ],
   "source": [
    "# 최종평가\n",
    "model.evaluate(X_test,y_test)"
   ]
  },
  {
   "cell_type": "markdown",
   "metadata": {},
   "source": [
    "# VGG를 활용한 이미지 판별 "
   ]
  },
  {
   "cell_type": "code",
   "execution_count": null,
   "metadata": {},
   "outputs": [],
   "source": []
  },
  {
   "cell_type": "code",
   "execution_count": 28,
   "metadata": {},
   "outputs": [],
   "source": [
    "model= tf.keras.Sequential([\n",
    "    tf.keras.layers.Conv2D(input_shape=(224,224,3),kernel_size=(3,3),filters=16,padding='same',activation='relu'),\n",
    "    tf.keras.layers.Conv2D(kernel_size=(3,3),filters=32,padding='same',activation='relu'),\n",
    "    tf.keras.layers.MaxPool2D(strides = (2,2)),\n",
    "    tf.keras.layers.Dropout(rate=0.5),\n",
    "    tf.keras.layers.Conv2D(kernel_size=(3,3),filters = 32, padding='same', activation='relu'),\n",
    "    tf.keras.layers.Conv2D(kernel_size=(3,3),filters = 64, padding = 'valid', activation='relu'),\n",
    "    tf.keras.layers.MaxPool2D(strides = (2,2)),\n",
    "    tf.keras.layers.Dropout(rate=0.5),\n",
    "    tf.keras.layers.Flatten(),\n",
    "    tf.keras.layers.Dense(units=64, activation = 'relu'),\n",
    "    tf.keras.layers.Dropout(rate = 0.5),\n",
    "    tf.keras.layers.Dense(units=32, activation = 'relu'),\n",
    "    tf.keras.layers.Dropout(rate = 0.5),\n",
    "    tf.keras.layers.Dense(units=10, activation = 'softmax')\n",
    "])"
   ]
  },
  {
   "cell_type": "code",
   "execution_count": 29,
   "metadata": {},
   "outputs": [
    {
     "name": "stdout",
     "output_type": "stream",
     "text": [
      "Model: \"sequential_5\"\n",
      "_________________________________________________________________\n",
      "Layer (type)                 Output Shape              Param #   \n",
      "=================================================================\n",
      "conv2d_22 (Conv2D)           (None, 224, 224, 16)      448       \n",
      "_________________________________________________________________\n",
      "conv2d_23 (Conv2D)           (None, 224, 224, 32)      4640      \n",
      "_________________________________________________________________\n",
      "max_pooling2d_11 (MaxPooling (None, 112, 112, 32)      0         \n",
      "_________________________________________________________________\n",
      "dropout_16 (Dropout)         (None, 112, 112, 32)      0         \n",
      "_________________________________________________________________\n",
      "conv2d_24 (Conv2D)           (None, 112, 112, 32)      9248      \n",
      "_________________________________________________________________\n",
      "conv2d_25 (Conv2D)           (None, 110, 110, 64)      18496     \n",
      "_________________________________________________________________\n",
      "max_pooling2d_12 (MaxPooling (None, 55, 55, 64)        0         \n",
      "_________________________________________________________________\n",
      "dropout_17 (Dropout)         (None, 55, 55, 64)        0         \n",
      "_________________________________________________________________\n",
      "flatten_5 (Flatten)          (None, 193600)            0         \n",
      "_________________________________________________________________\n",
      "dense_14 (Dense)             (None, 64)                12390464  \n",
      "_________________________________________________________________\n",
      "dropout_18 (Dropout)         (None, 64)                0         \n",
      "_________________________________________________________________\n",
      "dense_15 (Dense)             (None, 32)                2080      \n",
      "_________________________________________________________________\n",
      "dropout_19 (Dropout)         (None, 32)                0         \n",
      "_________________________________________________________________\n",
      "dense_16 (Dense)             (None, 10)                330       \n",
      "=================================================================\n",
      "Total params: 12,425,706\n",
      "Trainable params: 12,425,706\n",
      "Non-trainable params: 0\n",
      "_________________________________________________________________\n"
     ]
    }
   ],
   "source": [
    "model.compile(optimizer = tf.keras.optimizers.Adam(),\n",
    "              loss = 'sparse_categorical_crossentropy',\n",
    "              metrics = ['accuracy'])\n",
    "model.summary()"
   ]
  },
  {
   "cell_type": "code",
   "execution_count": 30,
   "metadata": {},
   "outputs": [
    {
     "name": "stdout",
     "output_type": "stream",
     "text": [
      "Epoch 1/30\n",
      "  2/176 [..............................] - ETA: 8s - loss: 903.3929 - accuracy: 0.0938WARNING:tensorflow:Callbacks method `on_train_batch_end` is slow compared to the batch time (batch time: 0.0279s vs `on_train_batch_end` time: 0.0738s). Check your callbacks.\n",
      "176/176 [==============================] - 20s 113ms/step - loss: 22.1207 - accuracy: 0.3291 - val_loss: 2.0268 - val_accuracy: 0.3285\n",
      "Epoch 2/30\n",
      "176/176 [==============================] - 19s 107ms/step - loss: 1.9106 - accuracy: 0.3319 - val_loss: 1.7979 - val_accuracy: 0.3285\n",
      "Epoch 3/30\n",
      "176/176 [==============================] - 19s 109ms/step - loss: 1.7195 - accuracy: 0.3307 - val_loss: 1.6258 - val_accuracy: 0.3285\n",
      "Epoch 4/30\n",
      "176/176 [==============================] - 20s 111ms/step - loss: 1.5848 - accuracy: 0.3260 - val_loss: 1.5017 - val_accuracy: 0.3285\n",
      "Epoch 5/30\n",
      "176/176 [==============================] - 20s 112ms/step - loss: 1.4822 - accuracy: 0.3392 - val_loss: 1.4117 - val_accuracy: 0.3285\n",
      "Epoch 6/30\n",
      "176/176 [==============================] - 20s 113ms/step - loss: 1.4091 - accuracy: 0.3404 - val_loss: 1.3457 - val_accuracy: 0.3285\n",
      "Epoch 7/30\n",
      "176/176 [==============================] - 20s 114ms/step - loss: 1.3561 - accuracy: 0.3396 - val_loss: 1.2969 - val_accuracy: 0.3285\n",
      "Epoch 8/30\n",
      "176/176 [==============================] - 20s 115ms/step - loss: 1.3192 - accuracy: 0.3228 - val_loss: 1.2608 - val_accuracy: 0.3285\n",
      "Epoch 9/30\n",
      "176/176 [==============================] - 20s 115ms/step - loss: 1.2856 - accuracy: 0.3321 - val_loss: 1.2331 - val_accuracy: 0.3285\n",
      "Epoch 10/30\n",
      "176/176 [==============================] - 20s 115ms/step - loss: 1.2634 - accuracy: 0.3257 - val_loss: 1.2119 - val_accuracy: 0.3285\n",
      "Epoch 11/30\n",
      "176/176 [==============================] - 20s 115ms/step - loss: 1.2366 - accuracy: 0.3355 - val_loss: 1.1950 - val_accuracy: 0.3285\n",
      "Epoch 12/30\n",
      "176/176 [==============================] - 20s 116ms/step - loss: 1.2262 - accuracy: 0.3305 - val_loss: 1.1814 - val_accuracy: 0.3285\n",
      "Epoch 13/30\n",
      "176/176 [==============================] - 20s 115ms/step - loss: 1.2118 - accuracy: 0.3339 - val_loss: 1.1707 - val_accuracy: 0.3285\n",
      "Epoch 14/30\n",
      "176/176 [==============================] - 20s 115ms/step - loss: 1.1989 - accuracy: 0.3412 - val_loss: 1.1615 - val_accuracy: 0.3285\n",
      "Epoch 15/30\n",
      "176/176 [==============================] - 20s 116ms/step - loss: 1.1889 - accuracy: 0.3335 - val_loss: 1.1542 - val_accuracy: 0.3285\n",
      "Epoch 16/30\n",
      "176/176 [==============================] - 21s 117ms/step - loss: 1.1804 - accuracy: 0.3372 - val_loss: 1.1479 - val_accuracy: 0.3253\n",
      "Epoch 17/30\n",
      "176/176 [==============================] - 20s 116ms/step - loss: 1.1717 - accuracy: 0.3451 - val_loss: 1.1424 - val_accuracy: 0.3253\n",
      "Epoch 18/30\n",
      "176/176 [==============================] - 20s 116ms/step - loss: 1.1663 - accuracy: 0.3292 - val_loss: 1.1380 - val_accuracy: 0.3253\n",
      "Epoch 19/30\n",
      "176/176 [==============================] - 20s 116ms/step - loss: 1.1577 - accuracy: 0.3367 - val_loss: 1.1339 - val_accuracy: 0.3253\n",
      "Epoch 20/30\n",
      "176/176 [==============================] - 20s 116ms/step - loss: 1.1519 - accuracy: 0.3476 - val_loss: 1.1304 - val_accuracy: 0.3253\n",
      "Epoch 21/30\n",
      "176/176 [==============================] - 20s 116ms/step - loss: 1.1483 - accuracy: 0.3333 - val_loss: 1.1273 - val_accuracy: 0.3253\n",
      "Epoch 22/30\n",
      "176/176 [==============================] - 20s 116ms/step - loss: 1.1464 - accuracy: 0.3406 - val_loss: 1.1246 - val_accuracy: 0.3253\n",
      "Epoch 23/30\n",
      "176/176 [==============================] - 21s 117ms/step - loss: 1.1413 - accuracy: 0.3364 - val_loss: 1.1222 - val_accuracy: 0.3253\n",
      "Epoch 24/30\n",
      "176/176 [==============================] - 21s 117ms/step - loss: 1.1374 - accuracy: 0.3330 - val_loss: 1.1199 - val_accuracy: 0.3253\n",
      "Epoch 25/30\n",
      "176/176 [==============================] - 21s 117ms/step - loss: 1.1386 - accuracy: 0.3246 - val_loss: 1.1181 - val_accuracy: 0.3253\n",
      "Epoch 26/30\n",
      "176/176 [==============================] - 20s 116ms/step - loss: 1.1307 - accuracy: 0.3396 - val_loss: 1.1160 - val_accuracy: 0.3253\n",
      "Epoch 27/30\n",
      "176/176 [==============================] - 20s 115ms/step - loss: 1.1305 - accuracy: 0.3348 - val_loss: 1.1145 - val_accuracy: 0.3253\n",
      "Epoch 28/30\n",
      "176/176 [==============================] - 20s 115ms/step - loss: 1.1273 - accuracy: 0.3296 - val_loss: 1.1132 - val_accuracy: 0.3253\n",
      "Epoch 29/30\n",
      "176/176 [==============================] - 20s 115ms/step - loss: 1.1252 - accuracy: 0.3326 - val_loss: 1.1117 - val_accuracy: 0.3253\n",
      "Epoch 30/30\n",
      "176/176 [==============================] - 20s 115ms/step - loss: 1.1231 - accuracy: 0.3339 - val_loss: 1.1108 - val_accuracy: 0.3253\n"
     ]
    }
   ],
   "source": [
    "history = model.fit(X_train,y_train,\n",
    "                    epochs=30,\n",
    "                    validation_split=0.25,\n",
    "                    callbacks = [tf.keras.callbacks.EarlyStopping(patience = 5, monitor = 'val_loss')])"
   ]
  },
  {
   "cell_type": "code",
   "execution_count": 31,
   "metadata": {},
   "outputs": [
    {
     "data": {
      "image/png": "[encoded data removed]",
      "text/plain": [
       "<Figure size 864x288 with 1 Axes>"
      ]
     },
     "metadata": {
      "needs_background": "light"
     },
     "output_type": "display_data"
    },
    {
     "data": {
      "image/png": "[encoded data removed]",
      "text/plain": [
       "<Figure size 432x288 with 1 Axes>"
      ]
     },
     "metadata": {
      "needs_background": "light"
     },
     "output_type": "display_data"
    }
   ],
   "source": [
    "import matplotlib.pyplot as plt\n",
    "plt.figure(figsize = (12,4))\n",
    "\n",
    "plt.subplot(1,2,1)\n",
    "plt.plot(history.history['loss'],'b-',label = 'loss')\n",
    "plt.plot(history.history['val_loss'],'r--',label = 'val_loss')\n",
    "plt.xlabel('Epoch')\n",
    "plt.legend()\n",
    "plt.show()\n",
    "\n",
    "plt.subplot(1,2,2)\n",
    "plt.plot(history.history['accuracy'],'g-',label = 'accuracy')\n",
    "plt.plot(history.history['val_accuracy'],'k--',label = 'val_accuracy')\n",
    "plt.xlabel('Epoch')\n",
    "plt.legend()\n",
    "plt.show()"
   ]
  },
  {
   "cell_type": "code",
   "execution_count": 32,
   "metadata": {},
   "outputs": [
    {
     "name": "stdout",
     "output_type": "stream",
     "text": [
      "59/59 [==============================] - 1s 24ms/step - loss: 1.1107 - accuracy: 0.3333\n"
     ]
    },
    {
     "data": {
      "text/plain": [
       "[1.1106986999511719, 0.3333333432674408]"
      ]
     },
     "execution_count": 32,
     "metadata": {},
     "output_type": "execute_result"
    }
   ],
   "source": [
    "# 최종평가\n",
    "model.evaluate(X_test,y_test)"
   ]
  },
  {
   "cell_type": "code",
   "execution_count": null,
   "metadata": {},
   "outputs": [],
   "source": []
  }
 ],
 "metadata": {
  "kernelspec": {
   "display_name": "Python 3",
   "language": "python",
   "name": "python3"
  },
  "language_info": {
   "codemirror_mode": {
    "name": "ipython",
    "version": 3
   },
   "file_extension": ".py",
   "mimetype": "text/x-python",
   "name": "python",
   "nbconvert_exporter": "python",
   "pygments_lexer": "ipython3",
   "version": "3.8.5"
  }
 },
 "nbformat": 4,
 "nbformat_minor": 4
}
